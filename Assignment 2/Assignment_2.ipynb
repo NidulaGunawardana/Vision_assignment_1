{
 "cells": [
  {
   "cell_type": "code",
   "execution_count": 3,
   "metadata": {},
   "outputs": [
    {
     "name": "stdout",
     "output_type": "stream",
     "text": [
      "Collecting scikit-image\n",
      "  Downloading scikit_image-0.24.0-cp39-cp39-win_amd64.whl.metadata (14 kB)\n",
      "Requirement already satisfied: numpy>=1.23 in c:\\users\\nidul\\.conda\\envs\\zs6d\\lib\\site-packages (from scikit-image) (1.26.4)\n",
      "Requirement already satisfied: scipy>=1.9 in c:\\users\\nidul\\.conda\\envs\\zs6d\\lib\\site-packages (from scikit-image) (1.13.1)\n",
      "Requirement already satisfied: networkx>=2.8 in c:\\users\\nidul\\.conda\\envs\\zs6d\\lib\\site-packages (from scikit-image) (3.2.1)\n",
      "Requirement already satisfied: pillow>=9.1 in c:\\users\\nidul\\.conda\\envs\\zs6d\\lib\\site-packages (from scikit-image) (9.4.0)\n",
      "Requirement already satisfied: imageio>=2.33 in c:\\users\\nidul\\.conda\\envs\\zs6d\\lib\\site-packages (from scikit-image) (2.34.0)\n",
      "Collecting tifffile>=2022.8.12 (from scikit-image)\n",
      "  Using cached tifffile-2024.8.30-py3-none-any.whl.metadata (31 kB)\n",
      "Requirement already satisfied: packaging>=21 in c:\\users\\nidul\\.conda\\envs\\zs6d\\lib\\site-packages (from scikit-image) (24.1)\n",
      "Collecting lazy-loader>=0.4 (from scikit-image)\n",
      "  Downloading lazy_loader-0.4-py3-none-any.whl.metadata (7.6 kB)\n",
      "Downloading scikit_image-0.24.0-cp39-cp39-win_amd64.whl (12.9 MB)\n",
      "   ---------------------------------------- 0.0/12.9 MB ? eta -:--:--\n",
      "    --------------------------------------- 0.3/12.9 MB ? eta -:--:--\n",
      "   -- ------------------------------------- 0.8/12.9 MB 2.4 MB/s eta 0:00:06\n",
      "   --- ------------------------------------ 1.0/12.9 MB 2.5 MB/s eta 0:00:05\n",
      "   ----- ---------------------------------- 1.8/12.9 MB 2.5 MB/s eta 0:00:05\n",
      "   ------- -------------------------------- 2.4/12.9 MB 2.5 MB/s eta 0:00:05\n",
      "   -------- ------------------------------- 2.9/12.9 MB 2.6 MB/s eta 0:00:04\n",
      "   --------- ------------------------------ 3.1/12.9 MB 2.6 MB/s eta 0:00:04\n",
      "   ------------ --------------------------- 3.9/12.9 MB 2.6 MB/s eta 0:00:04\n",
      "   ------------- -------------------------- 4.5/12.9 MB 2.6 MB/s eta 0:00:04\n",
      "   --------------- ------------------------ 5.0/12.9 MB 2.6 MB/s eta 0:00:04\n",
      "   ----------------- ---------------------- 5.8/12.9 MB 2.6 MB/s eta 0:00:03\n",
      "   ------------------- -------------------- 6.3/12.9 MB 2.6 MB/s eta 0:00:03\n",
      "   -------------------- ------------------- 6.6/12.9 MB 2.6 MB/s eta 0:00:03\n",
      "   --------------------- ------------------ 7.1/12.9 MB 2.5 MB/s eta 0:00:03\n",
      "   ---------------------- ----------------- 7.3/12.9 MB 2.5 MB/s eta 0:00:03\n",
      "   ------------------------- -------------- 8.1/12.9 MB 2.6 MB/s eta 0:00:02\n",
      "   -------------------------- ------------- 8.7/12.9 MB 2.5 MB/s eta 0:00:02\n",
      "   ---------------------------- ----------- 9.2/12.9 MB 2.5 MB/s eta 0:00:02\n",
      "   ------------------------------ --------- 9.7/12.9 MB 2.5 MB/s eta 0:00:02\n",
      "   ------------------------------- -------- 10.2/12.9 MB 2.5 MB/s eta 0:00:02\n",
      "   -------------------------------- ------- 10.5/12.9 MB 2.5 MB/s eta 0:00:01\n",
      "   --------------------------------- ------ 10.7/12.9 MB 2.4 MB/s eta 0:00:01\n",
      "   ---------------------------------- ----- 11.0/12.9 MB 2.3 MB/s eta 0:00:01\n",
      "   ---------------------------------- ----- 11.3/12.9 MB 2.3 MB/s eta 0:00:01\n",
      "   ----------------------------------- ---- 11.5/12.9 MB 2.3 MB/s eta 0:00:01\n",
      "   ------------------------------------ --- 11.8/12.9 MB 2.3 MB/s eta 0:00:01\n",
      "   -------------------------------------- - 12.3/12.9 MB 2.2 MB/s eta 0:00:01\n",
      "   ---------------------------------------  12.6/12.9 MB 2.2 MB/s eta 0:00:01\n",
      "   ---------------------------------------- 12.9/12.9 MB 2.2 MB/s eta 0:00:00\n",
      "Downloading lazy_loader-0.4-py3-none-any.whl (12 kB)\n",
      "Using cached tifffile-2024.8.30-py3-none-any.whl (227 kB)\n",
      "Installing collected packages: tifffile, lazy-loader, scikit-image\n",
      "Successfully installed lazy-loader-0.4 scikit-image-0.24.0 tifffile-2024.8.30\n"
     ]
    }
   ],
   "source": [
    "!pip install scikit-image"
   ]
  },
  {
   "cell_type": "markdown",
   "metadata": {},
   "source": [
    "### 1. Circle Detection using Laplacian of Gaussian"
   ]
  },
  {
   "cell_type": "code",
   "execution_count": 5,
   "metadata": {},
   "outputs": [
    {
     "name": "stdout",
     "output_type": "stream",
     "text": [
      "Largest Circle: Center = (0.0, 113.0) Radius = 70.71067811865476\n",
      "Range of sigma values used: 10 to 50\n"
     ]
    }
   ],
   "source": [
    "import cv2 as cv\n",
    "import numpy as np\n",
    "from skimage.feature import blob_log\n",
    "\n",
    "# Load image\n",
    "image = cv.imread('the_berry_farms_sunflower_field.jpeg', cv.IMREAD_REDUCED_COLOR_4)\n",
    "gray_image = cv.cvtColor(image, cv.COLOR_BGR2GRAY)\n",
    "\n",
    "# Parameters for Laplacian of Gaussian\n",
    "min_sigma = 10\n",
    "max_sigma = 50\n",
    "num_sigma = 10\n",
    "threshold = 0.1\n",
    "\n",
    "# Blob detection using Laplacian of Gaussian\n",
    "blobs = blob_log(gray_image, min_sigma=min_sigma, max_sigma=max_sigma, num_sigma=num_sigma, threshold=threshold)\n",
    "\n",
    "# Calculate radii of detected blobs\n",
    "blobs[:, 2] = blobs[:, 2] * np.sqrt(2)\n",
    "\n",
    "# Draw detected blobs\n",
    "for blob in blobs:\n",
    "    y, x, r = blob\n",
    "    cv.circle(image, (int(x), int(y)), int(r), (0, 255, 0), 2)\n",
    "\n",
    "# Display results\n",
    "cv.imshow('Detected Circles', image)\n",
    "cv.waitKey(0)\n",
    "cv.destroyAllWindows()\n",
    "\n",
    "# Report largest circle and range of σ values used\n",
    "largest_circle = max(blobs, key=lambda b: b[2])\n",
    "print(\"Largest Circle: Center =\", (largest_circle[1], largest_circle[0]), \"Radius =\", largest_circle[2])\n",
    "print(f\"Range of sigma values used: {min_sigma} to {max_sigma}\")\n"
   ]
  }
 ],
 "metadata": {
  "kernelspec": {
   "display_name": "zs6d",
   "language": "python",
   "name": "python3"
  },
  "language_info": {
   "codemirror_mode": {
    "name": "ipython",
    "version": 3
   },
   "file_extension": ".py",
   "mimetype": "text/x-python",
   "name": "python",
   "nbconvert_exporter": "python",
   "pygments_lexer": "ipython3",
   "version": "3.9.19"
  }
 },
 "nbformat": 4,
 "nbformat_minor": 2
}
